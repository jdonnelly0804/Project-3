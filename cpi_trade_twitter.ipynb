{
 "cells": [
  {
   "cell_type": "code",
   "execution_count": 1,
   "metadata": {},
   "outputs": [
    {
     "data": {
      "text/plain": [
       "True"
      ]
     },
     "execution_count": 1,
     "metadata": {},
     "output_type": "execute_result"
    }
   ],
   "source": [
    "#Initialize imports\n",
    "from distutils import core\n",
    "import os\n",
    "import requests\n",
    "import json \n",
    "from dotenv import load_dotenv\n",
    "import alpaca_trade_api as tradeapi\n",
    "import tweepy\n",
    "import time\n",
    "load_dotenv()"
   ]
  },
  {
   "cell_type": "code",
   "execution_count": 2,
   "metadata": {},
   "outputs": [],
   "source": [
    "#bring in API keys\n",
    "twitter_api_key = os.getenv(\"TWITTER_API_KEY\")\n",
    "twitter_secret_key = os.getenv(\"TWITTER_SECRET_KEY\")\n",
    "twitter_access_token = os.getenv(\"TWITTER_ACCESS_TOKEN\")\n",
    "twitter_secret_token = os.getenv(\"TWITTER_SECRET_TOKEN\")\n",
    "alpaca_api_key = os.getenv(\"ALPACA_API_KEY\")\n",
    "alpaca_secret_key = os.getenv(\"ALPACA_SECRET_KEY\")"
   ]
  },
  {
   "cell_type": "code",
   "execution_count": 3,
   "metadata": {},
   "outputs": [],
   "source": [
    "#baseurl is used for alpaca and userid is used for twitter\n",
    "base_url = 'https://paper-api.alpaca.markets'\n",
    "user_id ='News_Of_Alpha'\n",
    "url = 'https://twitter.com/Tree_of_Alpha/status/1580536336250970112'\n",
    "#authorize twitter login\n",
    "def oAuth():\n",
    "    try:\n",
    "        auth = tweepy.OAuthHandler(twitter_api_key,twitter_secret_key)\n",
    "        auth.set_access_token(twitter_access_token,twitter_secret_token)\n",
    "        return auth\n",
    "    except Exception as e:\n",
    "        return None\n",
    "\n",
    "oauth= oAuth()"
   ]
  },
  {
   "cell_type": "code",
   "execution_count": 4,
   "metadata": {},
   "outputs": [],
   "source": [
    "#set twitter api object and alpaca api object \n",
    "twitter_api = tweepy.API(oauth)\n",
    "\n",
    "alpaca_api = tradeapi.REST(\n",
    "    alpaca_api_key,\n",
    "    alpaca_secret_key,\n",
    "    base_url\n",
    ")"
   ]
  },
  {
   "cell_type": "code",
   "execution_count": null,
   "metadata": {},
   "outputs": [],
   "source": [
    "#While loop continually pulls most recent tweets from 'News_of_alpha'\n",
    "while True:\n",
    "    tweet = twitter_api.user_timeline(\n",
    "    screen_name = user_id,\n",
    "    count = 1, \n",
    "    include_rts = False,\n",
    "    exclude_replies = True,\n",
    "    tweet_mode = 'extended'\n",
    ")\n",
    "    #Splits tweet into list of strings \n",
    "    for info in tweet:\n",
    "        tweet = info.full_text\n",
    "        tweet_string = str(tweet).split()\n",
    "    #if the index 1 is 'CPI', we know its the right tweet\n",
    "    if tweet_string[1] == 'CPI:':\n",
    "        t0= time.time()\n",
    "        cpi_number = tweet_string[2]\n",
    "        core_cpi_number = tweet_string[8]\n",
    "        \n",
    "        #gather and clean CPI numbers\n",
    "        cpi = cpi_number.replace('+','')\n",
    "        cpi = cpi_number.replace('%','')\n",
    "        cpi = int(float(cpi))\n",
    "\n",
    "        core_cpi = core_cpi_number.replace('+','')\n",
    "        core_cpi = core_cpi_number.replace('%','')\n",
    "        core_cpi = int(float(core_cpi))\n",
    "        #Conditional statements to determine to long/short market depending on CPI print\n",
    "        if cpi >= 6.5:\n",
    "            alpaca_api.submit_order(\n",
    "            symbol='SPY',\n",
    "            qty=100,  \n",
    "            side='sell',\n",
    "            type='limit',\n",
    "            limit_price= 375,\n",
    "            time_in_force='day',\n",
    "            extended_hours=True,\n",
    "        )\n",
    "            #Time how long it takes\n",
    "            t1 = time.time()\n",
    "            print(t1-t0)\n",
    "            break \n",
    "        elif cpi <=6.4:\n",
    "            alpaca_api.submit_order(\n",
    "            symbol='BTCUSD',\n",
    "            qty=15,  \n",
    "            side='buy',\n",
    "            type='market',\n",
    "            time_in_force='gtc',\n",
    "        )\n",
    "            t1 = time.time() \n",
    "            print(t1-t0)\n",
    "            break\n",
    "        else:\n",
    "            print(\"No trade to be made given current inflation report.\")\n",
    "            t1 = time.time()\n",
    "            print(t1-t0)\n",
    "            break"
   ]
  },
  {
   "cell_type": "code",
   "execution_count": 3,
   "metadata": {},
   "outputs": [
    {
     "data": {
      "text/plain": [
       "'YEAR-OVER-YEAR'"
      ]
     },
     "execution_count": 3,
     "metadata": {},
     "output_type": "execute_result"
    }
   ],
   "source": [
    "tweet = 'U.S. CPI: +8.2% YEAR-OVER-YEAR (EST. +8.1%)U.S. CORE CPI: +6.6% YEAR-OVER-YEAR (EST. +6.5%)'\n",
    "split = tweet.split()\n",
    "split[9]"
   ]
  },
  {
   "cell_type": "code",
   "execution_count": null,
   "metadata": {},
   "outputs": [],
   "source": []
  }
 ],
 "metadata": {
  "kernelspec": {
   "display_name": "dev",
   "language": "python",
   "name": "python3"
  },
  "language_info": {
   "codemirror_mode": {
    "name": "ipython",
    "version": 3
   },
   "file_extension": ".py",
   "mimetype": "text/x-python",
   "name": "python",
   "nbconvert_exporter": "python",
   "pygments_lexer": "ipython3",
   "version": "3.7.13"
  },
  "orig_nbformat": 4,
  "vscode": {
   "interpreter": {
    "hash": "b690e6882326b5178da96a43489ad4a3a410df96195acf222b6fc0fcea8e80e0"
   }
  }
 },
 "nbformat": 4,
 "nbformat_minor": 2
}
