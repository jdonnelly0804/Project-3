{
 "cells": [
  {
   "attachments": {},
   "cell_type": "markdown",
   "metadata": {},
   "source": [
    "## Using Texblob library to get sentiment from tweets:"
   ]
  },
  {
   "cell_type": "code",
   "execution_count": 2,
   "metadata": {},
   "outputs": [],
   "source": [
    "#Imports\n",
    "import os\n",
    "import requests\n",
    "import json \n",
    "from dotenv import load_dotenv\n",
    "import tweepy\n",
    "load_dotenv()\n",
    "import pandas as pd\n",
    "import re\n",
    "from textblob import TextBlob\n",
    "import matplotlib.pyplot as plt"
   ]
  },
  {
   "cell_type": "code",
   "execution_count": 3,
   "metadata": {},
   "outputs": [],
   "source": [
    "#twitter API keys\n",
    "twitter_api_key = os.getenv(\"TWITTER_API_KEY\")\n",
    "twitter_secret_key = os.getenv(\"TWITTER_SECRET_KEY\")\n",
    "twitter_access_token = os.getenv(\"TWITTER_ACCESS_TOKEN\")\n",
    "twitter_secret_token = os.getenv(\"TWITTER_SECRET_TOKEN\")"
   ]
  },
  {
   "cell_type": "code",
   "execution_count": 4,
   "metadata": {},
   "outputs": [],
   "source": [
    "#Authorize twitter use with account\n",
    "def oAuth():\n",
    "    try:\n",
    "        auth = tweepy.OAuthHandler(twitter_api_key,twitter_secret_key)\n",
    "        auth.set_access_token(twitter_access_token,twitter_secret_token)\n",
    "        return auth\n",
    "    except Exception as e:\n",
    "        return None\n",
    "\n",
    "oauth= oAuth()\n",
    "\n",
    "#set twitter api object \n",
    "twitter_api = tweepy.API(oauth)"
   ]
  },
  {
   "cell_type": "code",
   "execution_count": 5,
   "metadata": {},
   "outputs": [],
   "source": [
    "#Gather 2000 tweets - BTC\n",
    "search_term = 'bitcoin' + '-filter:retweets'\n",
    "#create a cursor object\n",
    "#twitterapi.search_tweets has been most consistent with filtering retweets and getting hundreds of tweets without using twitter data website storage\n",
    "tweets = tweepy.Cursor(twitter_api.search_tweets, q=search_term, tweet_mode = 'extended', lang = 'en').items(200)"
   ]
  },
  {
   "cell_type": "code",
   "execution_count": 6,
   "metadata": {},
   "outputs": [],
   "source": [
    "#gather text from tweets\n",
    "all_tweets = [tweet.full_text for tweet in tweets]"
   ]
  },
  {
   "cell_type": "code",
   "execution_count": 7,
   "metadata": {},
   "outputs": [
    {
     "data": {
      "text/html": [
       "<div>\n",
       "<style scoped>\n",
       "    .dataframe tbody tr th:only-of-type {\n",
       "        vertical-align: middle;\n",
       "    }\n",
       "\n",
       "    .dataframe tbody tr th {\n",
       "        vertical-align: top;\n",
       "    }\n",
       "\n",
       "    .dataframe thead th {\n",
       "        text-align: right;\n",
       "    }\n",
       "</style>\n",
       "<table border=\"1\" class=\"dataframe\">\n",
       "  <thead>\n",
       "    <tr style=\"text-align: right;\">\n",
       "      <th></th>\n",
       "      <th>Tweets</th>\n",
       "    </tr>\n",
       "  </thead>\n",
       "  <tbody>\n",
       "    <tr>\n",
       "      <th>0</th>\n",
       "      <td>#Bitcoin stats every hour\\n----\\nBlock: 778542...</td>\n",
       "    </tr>\n",
       "    <tr>\n",
       "      <th>1</th>\n",
       "      <td>THETA, LIDO, KLAY and EGLD flash bullish signs...</td>\n",
       "    </tr>\n",
       "    <tr>\n",
       "      <th>2</th>\n",
       "      <td>BITCOIN PAYMENTS = DISCOUNT 🏆 https://t.co/BCd...</td>\n",
       "    </tr>\n",
       "    <tr>\n",
       "      <th>3</th>\n",
       "      <td>Crypto Market Update 2023-02-27 (1/3)\\n📈 Total...</td>\n",
       "    </tr>\n",
       "    <tr>\n",
       "      <th>4</th>\n",
       "      <td>Feb 27, 2023 10:00AM #Bitcoin Price:\\nUSD 2353...</td>\n",
       "    </tr>\n",
       "  </tbody>\n",
       "</table>\n",
       "</div>"
      ],
      "text/plain": [
       "                                              Tweets\n",
       "0  #Bitcoin stats every hour\\n----\\nBlock: 778542...\n",
       "1  THETA, LIDO, KLAY and EGLD flash bullish signs...\n",
       "2  BITCOIN PAYMENTS = DISCOUNT 🏆 https://t.co/BCd...\n",
       "3  Crypto Market Update 2023-02-27 (1/3)\\n📈 Total...\n",
       "4  Feb 27, 2023 10:00AM #Bitcoin Price:\\nUSD 2353..."
      ]
     },
     "execution_count": 7,
     "metadata": {},
     "output_type": "execute_result"
    }
   ],
   "source": [
    "#create df for tweets\n",
    "df = pd.DataFrame(all_tweets, columns=['Tweets'])\n",
    "df.head()"
   ]
  },
  {
   "cell_type": "code",
   "execution_count": 8,
   "metadata": {},
   "outputs": [],
   "source": [
    "#Function to try and clean up some of the noise in the tweets\n",
    "def cleanTwt(twt):\n",
    "    twt = re.sub('#bitcoin','bitcoin', twt)\n",
    "    twt = re.sub('#Bitcoin','Bitcoin', twt)\n",
    "    twt = re.sub('#[A-Za-z0-9]+', '', twt)\n",
    "    twt = re.sub('\\\\n', '', twt)\n",
    "    twt = re.sub('https?:\\/\\/\\S+','', twt) #removes https links\n",
    "    return twt"
   ]
  },
  {
   "cell_type": "code",
   "execution_count": 9,
   "metadata": {},
   "outputs": [
    {
     "data": {
      "text/html": [
       "<div>\n",
       "<style scoped>\n",
       "    .dataframe tbody tr th:only-of-type {\n",
       "        vertical-align: middle;\n",
       "    }\n",
       "\n",
       "    .dataframe tbody tr th {\n",
       "        vertical-align: top;\n",
       "    }\n",
       "\n",
       "    .dataframe thead th {\n",
       "        text-align: right;\n",
       "    }\n",
       "</style>\n",
       "<table border=\"1\" class=\"dataframe\">\n",
       "  <thead>\n",
       "    <tr style=\"text-align: right;\">\n",
       "      <th></th>\n",
       "      <th>Tweets</th>\n",
       "      <th>Clean_Tweets</th>\n",
       "    </tr>\n",
       "  </thead>\n",
       "  <tbody>\n",
       "    <tr>\n",
       "      <th>0</th>\n",
       "      <td>#Bitcoin stats every hour\\n----\\nBlock: 778542...</td>\n",
       "      <td>Bitcoin stats every hour----Block: 778542Hashr...</td>\n",
       "    </tr>\n",
       "    <tr>\n",
       "      <th>1</th>\n",
       "      <td>THETA, LIDO, KLAY and EGLD flash bullish signs...</td>\n",
       "      <td>THETA, LIDO, KLAY and EGLD flash bullish signs...</td>\n",
       "    </tr>\n",
       "    <tr>\n",
       "      <th>2</th>\n",
       "      <td>BITCOIN PAYMENTS = DISCOUNT 🏆 https://t.co/BCd...</td>\n",
       "      <td>BITCOIN PAYMENTS = DISCOUNT 🏆</td>\n",
       "    </tr>\n",
       "    <tr>\n",
       "      <th>3</th>\n",
       "      <td>Crypto Market Update 2023-02-27 (1/3)\\n📈 Total...</td>\n",
       "      <td>Crypto Market Update 2023-02-27 (1/3)📈 Total M...</td>\n",
       "    </tr>\n",
       "    <tr>\n",
       "      <th>4</th>\n",
       "      <td>Feb 27, 2023 10:00AM #Bitcoin Price:\\nUSD 2353...</td>\n",
       "      <td>Feb 27, 2023 10:00AM Bitcoin Price:USD 23532.5...</td>\n",
       "    </tr>\n",
       "  </tbody>\n",
       "</table>\n",
       "</div>"
      ],
      "text/plain": [
       "                                              Tweets  \\\n",
       "0  #Bitcoin stats every hour\\n----\\nBlock: 778542...   \n",
       "1  THETA, LIDO, KLAY and EGLD flash bullish signs...   \n",
       "2  BITCOIN PAYMENTS = DISCOUNT 🏆 https://t.co/BCd...   \n",
       "3  Crypto Market Update 2023-02-27 (1/3)\\n📈 Total...   \n",
       "4  Feb 27, 2023 10:00AM #Bitcoin Price:\\nUSD 2353...   \n",
       "\n",
       "                                        Clean_Tweets  \n",
       "0  Bitcoin stats every hour----Block: 778542Hashr...  \n",
       "1  THETA, LIDO, KLAY and EGLD flash bullish signs...  \n",
       "2                     BITCOIN PAYMENTS = DISCOUNT 🏆   \n",
       "3  Crypto Market Update 2023-02-27 (1/3)📈 Total M...  \n",
       "4  Feb 27, 2023 10:00AM Bitcoin Price:USD 23532.5...  "
      ]
     },
     "execution_count": 9,
     "metadata": {},
     "output_type": "execute_result"
    }
   ],
   "source": [
    "df['Clean_Tweets'] = df['Tweets'].apply(cleanTwt)\n",
    "df.head()"
   ]
  },
  {
   "cell_type": "code",
   "execution_count": 10,
   "metadata": {},
   "outputs": [],
   "source": [
    "#get subjectivity and polarity using textblob library\n",
    "\n",
    "def getSubjectivity(twt):\n",
    "    return TextBlob(twt).sentiment.subjectivity\n",
    "\n",
    "def getPolarity(twt):\n",
    "    return TextBlob(twt).sentiment.polarity\n",
    "\n",
    "df['subjectivity'] = df['Clean_Tweets'].apply(getSubjectivity)\n",
    "df['polarity'] = df['Clean_Tweets'].apply(getPolarity)"
   ]
  },
  {
   "cell_type": "code",
   "execution_count": 11,
   "metadata": {},
   "outputs": [],
   "source": [
    "#Sentiment function to determine the pos/neg tweets using their polarity scores\n",
    "\n",
    "def getsentiment(score):\n",
    "    if score < 0:\n",
    "        return 'Negative'\n",
    "    elif score == 0:\n",
    "        return 'Neutral'\n",
    "    else:\n",
    "        return 'Positive'\n",
    "    \n",
    "df['Sentiment'] = df['polarity'].apply(getsentiment)"
   ]
  },
  {
   "cell_type": "code",
   "execution_count": 12,
   "metadata": {},
   "outputs": [
    {
     "name": "stdout",
     "output_type": "stream",
     "text": [
      "Positive: 89\n",
      "Neutral: 86\n",
      "Negative: 25\n"
     ]
    }
   ],
   "source": [
    "positive=[]\n",
    "negative=[]\n",
    "neutral=[]\n",
    "\n",
    "#polarity > 0 == positive \n",
    "\n",
    "for polarity in df['polarity']:\n",
    "    if polarity > 0:\n",
    "        positive.append(polarity)\n",
    "    elif polarity == 0:\n",
    "        neutral.append(polarity)\n",
    "    else:\n",
    "        negative.append(polarity)\n",
    "\n",
    "\n",
    "print(f\"Positive: {len(positive)}\")\n",
    "print(f\"Neutral: {len(neutral)}\")\n",
    "print(f\"Negative: {len(negative)}\")"
   ]
  },
  {
   "cell_type": "code",
   "execution_count": 13,
   "metadata": {},
   "outputs": [
    {
     "data": {
      "text/html": [
       "<div>\n",
       "<style scoped>\n",
       "    .dataframe tbody tr th:only-of-type {\n",
       "        vertical-align: middle;\n",
       "    }\n",
       "\n",
       "    .dataframe tbody tr th {\n",
       "        vertical-align: top;\n",
       "    }\n",
       "\n",
       "    .dataframe thead th {\n",
       "        text-align: right;\n",
       "    }\n",
       "</style>\n",
       "<table border=\"1\" class=\"dataframe\">\n",
       "  <thead>\n",
       "    <tr style=\"text-align: right;\">\n",
       "      <th></th>\n",
       "      <th>Tweets</th>\n",
       "      <th>Clean_Tweets</th>\n",
       "      <th>subjectivity</th>\n",
       "      <th>polarity</th>\n",
       "      <th>Sentiment</th>\n",
       "    </tr>\n",
       "  </thead>\n",
       "  <tbody>\n",
       "    <tr>\n",
       "      <th>0</th>\n",
       "      <td>#Bitcoin stats every hour\\n----\\nBlock: 778542...</td>\n",
       "      <td>Bitcoin stats every hour----Block: 778542Hashr...</td>\n",
       "      <td>0.066667</td>\n",
       "      <td>0.0</td>\n",
       "      <td>Neutral</td>\n",
       "    </tr>\n",
       "    <tr>\n",
       "      <th>1</th>\n",
       "      <td>THETA, LIDO, KLAY and EGLD flash bullish signs...</td>\n",
       "      <td>THETA, LIDO, KLAY and EGLD flash bullish signs...</td>\n",
       "      <td>0.000000</td>\n",
       "      <td>0.0</td>\n",
       "      <td>Neutral</td>\n",
       "    </tr>\n",
       "    <tr>\n",
       "      <th>2</th>\n",
       "      <td>BITCOIN PAYMENTS = DISCOUNT 🏆 https://t.co/BCd...</td>\n",
       "      <td>BITCOIN PAYMENTS = DISCOUNT 🏆</td>\n",
       "      <td>0.000000</td>\n",
       "      <td>0.0</td>\n",
       "      <td>Neutral</td>\n",
       "    </tr>\n",
       "    <tr>\n",
       "      <th>3</th>\n",
       "      <td>Crypto Market Update 2023-02-27 (1/3)\\n📈 Total...</td>\n",
       "      <td>Crypto Market Update 2023-02-27 (1/3)📈 Total M...</td>\n",
       "      <td>0.750000</td>\n",
       "      <td>0.0</td>\n",
       "      <td>Neutral</td>\n",
       "    </tr>\n",
       "    <tr>\n",
       "      <th>4</th>\n",
       "      <td>Feb 27, 2023 10:00AM #Bitcoin Price:\\nUSD 2353...</td>\n",
       "      <td>Feb 27, 2023 10:00AM Bitcoin Price:USD 23532.5...</td>\n",
       "      <td>0.000000</td>\n",
       "      <td>0.0</td>\n",
       "      <td>Neutral</td>\n",
       "    </tr>\n",
       "    <tr>\n",
       "      <th>...</th>\n",
       "      <td>...</td>\n",
       "      <td>...</td>\n",
       "      <td>...</td>\n",
       "      <td>...</td>\n",
       "      <td>...</td>\n",
       "    </tr>\n",
       "    <tr>\n",
       "      <th>195</th>\n",
       "      <td>XRP Lawyer Exposes History Behind Gary Gensler...</td>\n",
       "      <td>XRP Lawyer Exposes History Behind Gary Gensler...</td>\n",
       "      <td>0.700000</td>\n",
       "      <td>-0.4</td>\n",
       "      <td>Negative</td>\n",
       "    </tr>\n",
       "    <tr>\n",
       "      <th>196</th>\n",
       "      <td>Argo Class Action: Levi &amp;amp; Korsinsky Remind...</td>\n",
       "      <td>Argo Class Action: Levi &amp;amp; Korsinsky Remind...</td>\n",
       "      <td>0.100000</td>\n",
       "      <td>0.1</td>\n",
       "      <td>Positive</td>\n",
       "    </tr>\n",
       "    <tr>\n",
       "      <th>197</th>\n",
       "      <td>Bitcoin, Ethereum Price Prediction: Is The Ong...</td>\n",
       "      <td>Bitcoin, Ethereum Price Prediction: Is The Ong...</td>\n",
       "      <td>0.000000</td>\n",
       "      <td>0.0</td>\n",
       "      <td>Neutral</td>\n",
       "    </tr>\n",
       "    <tr>\n",
       "      <th>198</th>\n",
       "      <td>#BinanceCoin price update: $BNB\\n\\n#BNB $303.7...</td>\n",
       "      <td>price update: $BNB $303.77 USDBitcoin 0.01301...</td>\n",
       "      <td>0.250000</td>\n",
       "      <td>0.0</td>\n",
       "      <td>Neutral</td>\n",
       "    </tr>\n",
       "    <tr>\n",
       "      <th>199</th>\n",
       "      <td>@wsheeep @JackPosobiec Has nothing to do with ...</td>\n",
       "      <td>@wsheeep @JackPosobiec Has nothing to do with ...</td>\n",
       "      <td>0.000000</td>\n",
       "      <td>0.0</td>\n",
       "      <td>Neutral</td>\n",
       "    </tr>\n",
       "  </tbody>\n",
       "</table>\n",
       "<p>200 rows × 5 columns</p>\n",
       "</div>"
      ],
      "text/plain": [
       "                                                Tweets  \\\n",
       "0    #Bitcoin stats every hour\\n----\\nBlock: 778542...   \n",
       "1    THETA, LIDO, KLAY and EGLD flash bullish signs...   \n",
       "2    BITCOIN PAYMENTS = DISCOUNT 🏆 https://t.co/BCd...   \n",
       "3    Crypto Market Update 2023-02-27 (1/3)\\n📈 Total...   \n",
       "4    Feb 27, 2023 10:00AM #Bitcoin Price:\\nUSD 2353...   \n",
       "..                                                 ...   \n",
       "195  XRP Lawyer Exposes History Behind Gary Gensler...   \n",
       "196  Argo Class Action: Levi &amp; Korsinsky Remind...   \n",
       "197  Bitcoin, Ethereum Price Prediction: Is The Ong...   \n",
       "198  #BinanceCoin price update: $BNB\\n\\n#BNB $303.7...   \n",
       "199  @wsheeep @JackPosobiec Has nothing to do with ...   \n",
       "\n",
       "                                          Clean_Tweets  subjectivity  \\\n",
       "0    Bitcoin stats every hour----Block: 778542Hashr...      0.066667   \n",
       "1    THETA, LIDO, KLAY and EGLD flash bullish signs...      0.000000   \n",
       "2                       BITCOIN PAYMENTS = DISCOUNT 🏆       0.000000   \n",
       "3    Crypto Market Update 2023-02-27 (1/3)📈 Total M...      0.750000   \n",
       "4    Feb 27, 2023 10:00AM Bitcoin Price:USD 23532.5...      0.000000   \n",
       "..                                                 ...           ...   \n",
       "195  XRP Lawyer Exposes History Behind Gary Gensler...      0.700000   \n",
       "196  Argo Class Action: Levi &amp; Korsinsky Remind...      0.100000   \n",
       "197  Bitcoin, Ethereum Price Prediction: Is The Ong...      0.000000   \n",
       "198   price update: $BNB $303.77 USDBitcoin 0.01301...      0.250000   \n",
       "199  @wsheeep @JackPosobiec Has nothing to do with ...      0.000000   \n",
       "\n",
       "     polarity Sentiment  \n",
       "0         0.0   Neutral  \n",
       "1         0.0   Neutral  \n",
       "2         0.0   Neutral  \n",
       "3         0.0   Neutral  \n",
       "4         0.0   Neutral  \n",
       "..        ...       ...  \n",
       "195      -0.4  Negative  \n",
       "196       0.1  Positive  \n",
       "197       0.0   Neutral  \n",
       "198       0.0   Neutral  \n",
       "199       0.0   Neutral  \n",
       "\n",
       "[200 rows x 5 columns]"
      ]
     },
     "execution_count": 13,
     "metadata": {},
     "output_type": "execute_result"
    }
   ],
   "source": [
    "df"
   ]
  },
  {
   "cell_type": "code",
   "execution_count": 14,
   "metadata": {},
   "outputs": [
    {
     "data": {
      "image/png": "[encoded data removed]",
      "text/plain": [
       "<Figure size 576x432 with 1 Axes>"
      ]
     },
     "metadata": {
      "needs_background": "light"
     },
     "output_type": "display_data"
    }
   ],
   "source": [
    "#The higher subjectivity means that the text contains personal opinion rather than factual information\n",
    "#Higher polarity means more positive sentiment and vise-versa\n",
    "\n",
    "plt.figure(figsize=(8,6))\n",
    "for i in range(0, df.shape[0]):\n",
    "    plt.scatter(df['polarity'][i], df['subjectivity'][i], color = 'red')\n",
    "plt.title('Sent analysis')\n",
    "plt.xlabel('Polarity')\n",
    "plt.ylabel('subjectivity')\n",
    "plt.show()"
   ]
  }
 ],
 "metadata": {
  "kernelspec": {
   "display_name": "dev",
   "language": "python",
   "name": "python3"
  },
  "language_info": {
   "codemirror_mode": {
    "name": "ipython",
    "version": 3
   },
   "file_extension": ".py",
   "mimetype": "text/x-python",
   "name": "python",
   "nbconvert_exporter": "python",
   "pygments_lexer": "ipython3",
   "version": "3.7.13"
  },
  "orig_nbformat": 4,
  "vscode": {
   "interpreter": {
    "hash": "b690e6882326b5178da96a43489ad4a3a410df96195acf222b6fc0fcea8e80e0"
   }
  }
 },
 "nbformat": 4,
 "nbformat_minor": 2
}
