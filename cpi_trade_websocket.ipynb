{
 "cells": [
  {
   "cell_type": "code",
   "execution_count": 2,
   "metadata": {},
   "outputs": [],
   "source": [
    "#imports\n",
    "import websockets\n",
    "import asyncio\n",
    "import time\n",
    "import json\n",
    "import re\n",
    "import nest_asyncio\n",
    "nest_asyncio.apply()\n",
    "from dotenv import load_dotenv\n",
    "import alpaca_trade_api as tradeapi\n",
    "load_dotenv()\n",
    "import os"
   ]
  },
  {
   "cell_type": "code",
   "execution_count": 3,
   "metadata": {},
   "outputs": [],
   "source": [
    "#alpaca url \n",
    "base_url = 'https://paper-api.alpaca.markets'\n",
    "#alpaca api keys\n",
    "alpaca_api_key = os.getenv(\"ALPACA_API_KEY\")\n",
    "alpaca_secret_key = os.getenv(\"ALPACA_SECRET_KEY\")\n",
    "#alpaca object\n",
    "alpaca_api = tradeapi.REST(\n",
    "    alpaca_api_key,\n",
    "    alpaca_secret_key,\n",
    "    base_url\n",
    ")"
   ]
  },
  {
   "cell_type": "code",
   "execution_count": null,
   "metadata": {},
   "outputs": [],
   "source": [
    "#Function to gather live feed and trade CPI\n",
    "async def listen():\n",
    "    #url we gather cpi data from\n",
    "    url = 'wss://www.madnews.io/ws'\n",
    "\n",
    "    #async continually pings the websocket asking to receive new messages \n",
    "    async with websockets.connect(url) as websocket:\n",
    "        while True:\n",
    "            msg = await websocket.recv()\n",
    "            data = json.loads(msg)\n",
    "            #regular expression used to clean CPI numbers\n",
    "            matches = re.match(r\"U\\.S\\.\\s+CPI:\\s+\\+((\\d+)(?:\\.\\d+)?)%.+?\\nU\\.S\\.\\s+CORE\\s+CPI:\\s+\\+((\\d+)(?:\\.\\d+)?)%.+\", data['title'])\n",
    "            t0 = time.time()\n",
    "\n",
    "            cpi = int(float(matches.group(1)))\n",
    "            core_cpi = int(float(matches.group(3)))\n",
    "\n",
    "            #conditionals to determine short/long\n",
    "            if cpi >= 6.5:\n",
    "                alpaca_api.submit_order(\n",
    "                symbol='SPY',\n",
    "                qty=100,  \n",
    "                side='sell',\n",
    "                type='limit',\n",
    "                limit_price= 375,\n",
    "                time_in_force='day',\n",
    "                extended_hours=True,\n",
    "            )\n",
    "                t1 = time.time()\n",
    "                print(t1-t0)\n",
    "                break \n",
    "            elif cpi <= 6.4:\n",
    "                alpaca_api.submit_order(\n",
    "                symbol='BTCUSD',\n",
    "                qty=15,  \n",
    "                side='buy',\n",
    "                type='market',\n",
    "                time_in_force='gtc',\n",
    "            )\n",
    "                t1 = time.time()\n",
    "                print(t1-t0)\n",
    "                break\n",
    "            else:\n",
    "                print(\"No trade to be made given current data.\")\n",
    "                t1 = time.time()\n",
    "                print(t1-t0)\n",
    "                break"
   ]
  }
 ],
 "metadata": {
  "kernelspec": {
   "display_name": "dev",
   "language": "python",
   "name": "python3"
  },
  "language_info": {
   "codemirror_mode": {
    "name": "ipython",
    "version": 3
   },
   "file_extension": ".py",
   "mimetype": "text/x-python",
   "name": "python",
   "nbconvert_exporter": "python",
   "pygments_lexer": "ipython3",
   "version": "3.7.13"
  },
  "orig_nbformat": 4,
  "vscode": {
   "interpreter": {
    "hash": "b690e6882326b5178da96a43489ad4a3a410df96195acf222b6fc0fcea8e80e0"
   }
  }
 },
 "nbformat": 4,
 "nbformat_minor": 2
}
